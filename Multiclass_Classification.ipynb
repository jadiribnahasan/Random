{
  "nbformat": 4,
  "nbformat_minor": 0,
  "metadata": {
    "kernelspec": {
      "display_name": "Python 3",
      "language": "python",
      "name": "python3"
    },
    "language_info": {
      "codemirror_mode": {
        "name": "ipython",
        "version": 3
      },
      "file_extension": ".py",
      "mimetype": "text/x-python",
      "name": "python",
      "nbconvert_exporter": "python",
      "pygments_lexer": "ipython3",
      "version": "3.8.5"
    },
    "colab": {
      "name": "Multiclass-Classification.ipynb",
      "provenance": [],
      "collapsed_sections": [],
      "include_colab_link": true
    }
  },
  "cells": [
    {
      "cell_type": "markdown",
      "metadata": {
        "id": "view-in-github",
        "colab_type": "text"
      },
      "source": [
        "<a href=\"https://colab.research.google.com/github/jadiribnahasan/Random/blob/master/Multiclass_Classification.ipynb\" target=\"_parent\"><img src=\"https://colab.research.google.com/assets/colab-badge.svg\" alt=\"Open In Colab\"/></a>"
      ]
    },
    {
      "cell_type": "code",
      "metadata": {
        "colab": {
          "base_uri": "https://localhost:8080/"
        },
        "id": "aYtWkUdvw_Zt",
        "outputId": "1c33aaf4-20a9-4fd4-bcae-43f0d7c43f88"
      },
      "source": [
        "from google.colab import drive\r\n",
        "drive.mount('/content/gdrive')"
      ],
      "execution_count": 161,
      "outputs": [
        {
          "output_type": "stream",
          "text": [
            "Drive already mounted at /content/gdrive; to attempt to forcibly remount, call drive.mount(\"/content/gdrive\", force_remount=True).\n"
          ],
          "name": "stdout"
        }
      ]
    },
    {
      "cell_type": "code",
      "metadata": {
        "id": "RkR7kpqiwb9H"
      },
      "source": [
        "import numpy as np\n",
        "import pandas as pd \n",
        "import matplotlib.pyplot as plt\n",
        "plt.style.use('fivethirtyeight')"
      ],
      "execution_count": 162,
      "outputs": []
    },
    {
      "cell_type": "code",
      "metadata": {
        "colab": {
          "base_uri": "https://localhost:8080/",
          "height": 198
        },
        "id": "LDzlzAczwb9M",
        "outputId": "fd9e875c-776e-466b-ef82-bd5017ac2574"
      },
      "source": [
        "df = pd.read_csv(\"/content/gdrive/My Drive/Colab Notebooks/Artificial Intelligence/Data Sets/example_dataset.csv\",sep=\"\\t\",header=None)\n",
        "df.head()"
      ],
      "execution_count": 163,
      "outputs": [
        {
          "output_type": "execute_result",
          "data": {
            "text/html": [
              "<div>\n",
              "<style scoped>\n",
              "    .dataframe tbody tr th:only-of-type {\n",
              "        vertical-align: middle;\n",
              "    }\n",
              "\n",
              "    .dataframe tbody tr th {\n",
              "        vertical-align: top;\n",
              "    }\n",
              "\n",
              "    .dataframe thead th {\n",
              "        text-align: right;\n",
              "    }\n",
              "</style>\n",
              "<table border=\"1\" class=\"dataframe\">\n",
              "  <thead>\n",
              "    <tr style=\"text-align: right;\">\n",
              "      <th></th>\n",
              "      <th>0</th>\n",
              "      <th>1</th>\n",
              "      <th>2</th>\n",
              "      <th>3</th>\n",
              "      <th>4</th>\n",
              "      <th>5</th>\n",
              "      <th>6</th>\n",
              "      <th>7</th>\n",
              "      <th>8</th>\n",
              "      <th>9</th>\n",
              "      <th>10</th>\n",
              "      <th>11</th>\n",
              "    </tr>\n",
              "  </thead>\n",
              "  <tbody>\n",
              "    <tr>\n",
              "      <th>0</th>\n",
              "      <td>71</td>\n",
              "      <td>11.67</td>\n",
              "      <td>12.8025</td>\n",
              "      <td>8.055074738</td>\n",
              "      <td>34.65</td>\n",
              "      <td>1375.5</td>\n",
              "      <td>0.93005</td>\n",
              "      <td>19.145</td>\n",
              "      <td>4.4604</td>\n",
              "      <td>0.048667685</td>\n",
              "      <td>0.175</td>\n",
              "      <td>c_avellana</td>\n",
              "    </tr>\n",
              "    <tr>\n",
              "      <th>1</th>\n",
              "      <td>72</td>\n",
              "      <td>13.86</td>\n",
              "      <td>13.0995</td>\n",
              "      <td>7.349906812</td>\n",
              "      <td>38.1</td>\n",
              "      <td>1439.55</td>\n",
              "      <td>0.93401</td>\n",
              "      <td>8.780</td>\n",
              "      <td>4.7844</td>\n",
              "      <td>0.048826089</td>\n",
              "      <td>0.167</td>\n",
              "      <td>c_avellana</td>\n",
              "    </tr>\n",
              "    <tr>\n",
              "      <th>2</th>\n",
              "      <td>1</td>\n",
              "      <td>20.53</td>\n",
              "      <td>15.5925</td>\n",
              "      <td>9.565426582</td>\n",
              "      <td>49.89</td>\n",
              "      <td>1623.3</td>\n",
              "      <td>0.96217</td>\n",
              "      <td>5.120</td>\n",
              "      <td>5.2893</td>\n",
              "      <td>0.049521325</td>\n",
              "      <td>0.174</td>\n",
              "      <td>c_americana</td>\n",
              "    </tr>\n",
              "    <tr>\n",
              "      <th>3</th>\n",
              "      <td>73</td>\n",
              "      <td>14.13</td>\n",
              "      <td>12.222</td>\n",
              "      <td>7.182948645</td>\n",
              "      <td>35.43</td>\n",
              "      <td>1412.25</td>\n",
              "      <td>0.90178</td>\n",
              "      <td>13.694</td>\n",
              "      <td>4.8168</td>\n",
              "      <td>0.049594663</td>\n",
              "      <td>0.167</td>\n",
              "      <td>c_avellana</td>\n",
              "    </tr>\n",
              "    <tr>\n",
              "      <th>4</th>\n",
              "      <td>2</td>\n",
              "      <td>15.85</td>\n",
              "      <td>14.724</td>\n",
              "      <td>8.622661318</td>\n",
              "      <td>43.29</td>\n",
              "      <td>1512</td>\n",
              "      <td>0.96261</td>\n",
              "      <td>10.925</td>\n",
              "      <td>4.6296</td>\n",
              "      <td>0.050384315</td>\n",
              "      <td>0.173</td>\n",
              "      <td>c_americana</td>\n",
              "    </tr>\n",
              "  </tbody>\n",
              "</table>\n",
              "</div>"
            ],
            "text/plain": [
              "   0      1        2            3   ...      8            9      10           11\n",
              "0  71  11.67  12.8025  8.055074738  ...  4.4604  0.048667685  0.175   c_avellana\n",
              "1  72  13.86  13.0995  7.349906812  ...  4.7844  0.048826089  0.167   c_avellana\n",
              "2   1  20.53  15.5925  9.565426582  ...  5.2893  0.049521325  0.174  c_americana\n",
              "3  73  14.13   12.222  7.182948645  ...  4.8168  0.049594663  0.167   c_avellana\n",
              "4   2  15.85   14.724  8.622661318  ...  4.6296  0.050384315  0.173  c_americana\n",
              "\n",
              "[5 rows x 12 columns]"
            ]
          },
          "metadata": {
            "tags": []
          },
          "execution_count": 163
        }
      ]
    },
    {
      "cell_type": "code",
      "metadata": {
        "colab": {
          "base_uri": "https://localhost:8080/"
        },
        "id": "LU_4JSL-zbJz",
        "outputId": "05a77827-43f6-4f84-f908-17ad4230ae68"
      },
      "source": [
        "print(df.shape)"
      ],
      "execution_count": 164,
      "outputs": [
        {
          "output_type": "stream",
          "text": [
            "(201, 12)\n"
          ],
          "name": "stdout"
        }
      ]
    },
    {
      "cell_type": "code",
      "metadata": {
        "colab": {
          "base_uri": "https://localhost:8080/"
        },
        "id": "BzeNuVSsCJXh",
        "outputId": "08b5b829-0fd3-418b-ccb0-ddd85cdc8d92"
      },
      "source": [
        "for i in range(12):\r\n",
        "  for j in range(201):\r\n",
        "    if df[i][j] == '?' or df[i][j] == '*' or df[i][j] == '.':\r\n",
        "      if i == 11:\r\n",
        "        df.drop(index=j, inplace=True)\r\n",
        "      else:\r\n",
        "        df[i][j] = np.nan\r\n",
        "        \r\n",
        "X = df.iloc[ : , :11].astype(float)\r\n",
        "y = df.iloc[ : , 11]\r\n",
        "print(X.shape, y.shape)"
      ],
      "execution_count": 165,
      "outputs": [
        {
          "output_type": "stream",
          "text": [
            "(198, 11) (198,)\n"
          ],
          "name": "stdout"
        },
        {
          "output_type": "stream",
          "text": [
            "/usr/local/lib/python3.6/dist-packages/ipykernel_launcher.py:7: SettingWithCopyWarning: \n",
            "A value is trying to be set on a copy of a slice from a DataFrame\n",
            "\n",
            "See the caveats in the documentation: https://pandas.pydata.org/pandas-docs/stable/user_guide/indexing.html#returning-a-view-versus-a-copy\n",
            "  import sys\n"
          ],
          "name": "stderr"
        }
      ]
    },
    {
      "cell_type": "code",
      "metadata": {
        "id": "xCcjTXcqCzBp"
      },
      "source": [
        "X.fillna(X.mean(), inplace=True)"
      ],
      "execution_count": 166,
      "outputs": []
    },
    {
      "cell_type": "code",
      "metadata": {
        "colab": {
          "base_uri": "https://localhost:8080/",
          "height": 327
        },
        "id": "LS4qDWOCOl0q",
        "outputId": "38fa72c3-5276-43f0-e342-6f4b51a34dba"
      },
      "source": [
        "from sklearn.model_selection import train_test_split\r\n",
        "from sklearn.neighbors import KNeighborsClassifier\r\n",
        "from sklearn import metrics\r\n",
        "\r\n",
        "xtrain, xvalid, ytrain, yvalid = train_test_split(X, y, train_size=0.7, random_state=4)\r\n",
        "ks = [5, 7, 9, 13]\r\n",
        "knn_scores = []\r\n",
        "\r\n",
        "for k in ks:\r\n",
        "  knn = KNeighborsClassifier(n_neighbors=k)\r\n",
        "  knn.fit(xtrain,ytrain)\r\n",
        "  y_pred = knn.predict(xvalid)\r\n",
        "  knn_scores.append(metrics.accuracy_score(yvalid,y_pred))\r\n",
        "\r\n",
        "plt.xlabel('K')\r\n",
        "plt.ylabel('Accuracy')\r\n",
        "plt.plot(ks, knn_scores)"
      ],
      "execution_count": 167,
      "outputs": [
        {
          "output_type": "execute_result",
          "data": {
            "text/plain": [
              "[<matplotlib.lines.Line2D at 0x7f9cbba118d0>]"
            ]
          },
          "metadata": {
            "tags": []
          },
          "execution_count": 167
        },
        {
          "output_type": "display_data",
          "data": {
            "image/png": "[encoded data removed]",
            "text/plain": [
              "<Figure size 432x288 with 1 Axes>"
            ]
          },
          "metadata": {
            "tags": []
          }
        }
      ]
    },
    {
      "cell_type": "code",
      "metadata": {
        "colab": {
          "base_uri": "https://localhost:8080/",
          "height": 758
        },
        "id": "l0qleSvDPCra",
        "outputId": "d680fa64-ffdb-4058-d03c-a9ab72314079"
      },
      "source": [
        "from sklearn.linear_model import LogisticRegression\r\n",
        "\r\n",
        "mis = [5, 100, 500, 2000, 50000]\r\n",
        "lg_scores = []\r\n",
        "\r\n",
        "for mi in mis:\r\n",
        "  lg = LogisticRegression(max_iter=mi)\r\n",
        "  lg.fit(xtrain,ytrain)\r\n",
        "  y_pred = lg.predict(xvalid)\r\n",
        "  lg_scores.append(metrics.accuracy_score(yvalid,y_pred))\r\n",
        "\r\n",
        "plt.xlabel('maximum iteration')\r\n",
        "plt.ylabel('Accuracy')\r\n",
        "plt.plot(mis, lg_scores)"
      ],
      "execution_count": 168,
      "outputs": [
        {
          "output_type": "stream",
          "text": [
            "/usr/local/lib/python3.6/dist-packages/sklearn/linear_model/_logistic.py:940: ConvergenceWarning: lbfgs failed to converge (status=1):\n",
            "STOP: TOTAL NO. of ITERATIONS REACHED LIMIT.\n",
            "\n",
            "Increase the number of iterations (max_iter) or scale the data as shown in:\n",
            "    https://scikit-learn.org/stable/modules/preprocessing.html\n",
            "Please also refer to the documentation for alternative solver options:\n",
            "    https://scikit-learn.org/stable/modules/linear_model.html#logistic-regression\n",
            "  extra_warning_msg=_LOGISTIC_SOLVER_CONVERGENCE_MSG)\n",
            "/usr/local/lib/python3.6/dist-packages/sklearn/linear_model/_logistic.py:940: ConvergenceWarning: lbfgs failed to converge (status=1):\n",
            "STOP: TOTAL NO. of ITERATIONS REACHED LIMIT.\n",
            "\n",
            "Increase the number of iterations (max_iter) or scale the data as shown in:\n",
            "    https://scikit-learn.org/stable/modules/preprocessing.html\n",
            "Please also refer to the documentation for alternative solver options:\n",
            "    https://scikit-learn.org/stable/modules/linear_model.html#logistic-regression\n",
            "  extra_warning_msg=_LOGISTIC_SOLVER_CONVERGENCE_MSG)\n",
            "/usr/local/lib/python3.6/dist-packages/sklearn/linear_model/_logistic.py:940: ConvergenceWarning: lbfgs failed to converge (status=1):\n",
            "STOP: TOTAL NO. of ITERATIONS REACHED LIMIT.\n",
            "\n",
            "Increase the number of iterations (max_iter) or scale the data as shown in:\n",
            "    https://scikit-learn.org/stable/modules/preprocessing.html\n",
            "Please also refer to the documentation for alternative solver options:\n",
            "    https://scikit-learn.org/stable/modules/linear_model.html#logistic-regression\n",
            "  extra_warning_msg=_LOGISTIC_SOLVER_CONVERGENCE_MSG)\n"
          ],
          "name": "stderr"
        },
        {
          "output_type": "execute_result",
          "data": {
            "text/plain": [
              "[<matplotlib.lines.Line2D at 0x7f9cbb9ebac8>]"
            ]
          },
          "metadata": {
            "tags": []
          },
          "execution_count": 168
        },
        {
          "output_type": "display_data",
          "data": {
            "image/png": "[encoded data removed]",
            "text/plain": [
              "<Figure size 432x288 with 1 Axes>"
            ]
          },
          "metadata": {
            "tags": []
          }
        }
      ]
    }
  ]
}